{
 "cells": [
  {
   "cell_type": "markdown",
   "metadata": {},
   "source": [
    "# Ames (Iowa) housing regression\n",
    "\n",
    "We'd like to know:\n",
    "\n",
    "* What are the main drivers of the target (SalePrice)?\n",
    "* What features might be good for Iowa USA but not for London, UK?\n",
    "* Which features might translate but due to differences in culture might make less sense in a demo for London?\n",
    "* Are there any outliers? Should we dig further into them?\n",
    "* Do we have missing data?\n",
    "* Do we trust this dataset?"
   ]
  },
  {
   "cell_type": "code",
   "execution_count": null,
   "metadata": {},
   "outputs": [],
   "source": [
    "import pandas as pd\n",
    "from pandas_profiling import ProfileReport\n",
    "import matplotlib.pyplot as plt\n",
    "%matplotlib inline\n",
    "\n",
    "import sys\n",
    "print(f\"Python version {sys.version}\")\n",
    "\n",
    "import warnings\n",
    "warnings.filterwarnings(\"ignore\")\n",
    "\n",
    "import dabl\n",
    "\n",
    "print(f\"Pandas {pd.__version__} version\")\n",
    "import pandas_profiling\n",
    "print(f\"Pandas Profiling {pandas_profiling.__version__} version\")\n",
    "\n",
    "# Due to a Pandas/Pandas Profiling bug\n",
    "# https://github.com/pandas-profiling/pandas-profiling/issues/911\n",
    "# we have to make sure we're on Pandas 1.3.5 and not 1.4\n",
    "\n",
    "import seaborn as sns\n",
    "sns.set(style=\"white\")\n",
    "import altair as alt\n",
    "alt.renderers.enable('html')\n",
    "\n",
    "from utility import mpl_set_label_rotation"
   ]
  },
  {
   "cell_type": "code",
   "execution_count": null,
   "metadata": {},
   "outputs": [],
   "source": [
    "# https://www.kaggle.com/prevek18/ames-housing-dataset/data\n",
    "df = pd.read_csv('ames_housing.csv')\n",
    "df.columns = [c.replace(' ', '_') for c in df.columns]\n",
    "\n",
    "# note good vis and explanation here\n",
    "# https://www.kaggle.com/ammar111/house-price-prediction-an-end-to-end-ml-project\n",
    "df.head()"
   ]
  },
  {
   "cell_type": "raw",
   "metadata": {},
   "source": [
    "Key columns or terms:\n",
    "SalePrice\n",
    "Order - unique row number\n",
    "Gr_Liv_Area - Ground Floor Living Area (a key component of property size)\n",
    "Bsmt - Basement\n",
    "TotRms_AbvGrd - Total Room count Above Ground\n",
    "Lot_Frontage - Frontage measured (possibly in yards) for the front of the property, a big number would be \"very wide\"\n",
    "\n",
    "MS Zoning codes:\n",
    "\n",
    "'A'='Agriculture';\n",
    "'C (all)'='Commercial';\n",
    "'FV'='Floating Village Residential';\n",
    "'I'='Industrial';\n",
    "'RH'='Residential High Density';\n",
    "'RL'='Residential Low Density';\n",
    "'RP'='Residential Low Density Park';\n",
    "'RM'='Residential Medium Density'"
   ]
  },
  {
   "cell_type": "markdown",
   "metadata": {},
   "source": [
    "# Common easy Pandas descriptions\n",
    "\n",
    "How easy are these to understand?"
   ]
  },
  {
   "cell_type": "code",
   "execution_count": null,
   "metadata": {},
   "outputs": [],
   "source": [
    "df.info()"
   ]
  },
  {
   "cell_type": "code",
   "execution_count": null,
   "metadata": {},
   "outputs": [],
   "source": [
    "df.describe()"
   ]
  },
  {
   "cell_type": "markdown",
   "metadata": {},
   "source": [
    "# Plots help us poke around\n",
    "\n",
    "This is time-consuming but useful."
   ]
  },
  {
   "cell_type": "markdown",
   "metadata": {},
   "source": [
    "## MatPlotLib is default and \"easy\" but hard to use for EDA"
   ]
  },
  {
   "cell_type": "code",
   "execution_count": null,
   "metadata": {},
   "outputs": [],
   "source": [
    "df.plot(kind=\"scatter\", x='SalePrice', y='Gr_Liv_Area');"
   ]
  },
  {
   "cell_type": "markdown",
   "metadata": {},
   "source": [
    "## Altair is much nicer for interactive exploration!\n",
    "\n",
    "Tooltips and zoom are good."
   ]
  },
  {
   "cell_type": "code",
   "execution_count": null,
   "metadata": {},
   "outputs": [],
   "source": [
    "# find 1 or 2 dimensions that explain the SalePrice well\n",
    "alt.Chart(df, title='Interactive data exploration').mark_circle(size=60).encode(\n",
    "    x='SalePrice',\n",
    "    y='Gr_Liv_Area',\n",
    "    color='Overall_Qual',\n",
    "    # What else might go into the tool tips for debugging?\n",
    "    tooltip=['Overall_Qual', 'Order']\n",
    ").interactive()"
   ]
  },
  {
   "cell_type": "markdown",
   "metadata": {},
   "source": [
    "# First review with Pandas Profiling"
   ]
  },
  {
   "cell_type": "code",
   "execution_count": null,
   "metadata": {
    "scrolled": false
   },
   "outputs": [],
   "source": [
    "profile = ProfileReport(df.sample(200), minimal=True) # small sample else it takes ages with many variables\n",
    "# profile.to_file(output_file=\"ames_housing_univariate_report.html\") # export a local HTML file\n",
    "profile"
   ]
  },
  {
   "cell_type": "markdown",
   "metadata": {},
   "source": [
    "# Dabl\n",
    "\n",
    "It needs a regression target..."
   ]
  },
  {
   "cell_type": "code",
   "execution_count": null,
   "metadata": {
    "scrolled": false
   },
   "outputs": [],
   "source": [
    "# BEWARE you'll get a lot of Warnings - don't worry about these\n",
    "TARGET = 'what_should_go_here?' # TODO\n",
    "dabl.plot(df, target_col=TARGET);"
   ]
  },
  {
   "cell_type": "markdown",
   "metadata": {},
   "source": [
    "# Show a relationship or two\n",
    "\n",
    "Can you plot another interesting relationship given what you see in `dabl` above?"
   ]
  },
  {
   "cell_type": "code",
   "execution_count": null,
   "metadata": {},
   "outputs": [],
   "source": [
    "# find 1 or 2 dimensions that explain the SalePrice well\n",
    "alt.Chart(df, title='Interactive data exploration').mark_circle(size=60).encode(\n",
    "    x='Garage_Area',\n",
    "    y='Gr_Liv_Area',\n",
    "    color='Year_Built',\n",
    "    #color='Overall_Qual',\n",
    "    # What else might go into the tool tips for debugging?\n",
    "    tooltip=['Overall_Qual', 'Order']\n",
    ").interactive()"
   ]
  },
  {
   "cell_type": "markdown",
   "metadata": {},
   "source": [
    "## Do we have enough rows to support a sensible box plot?\n",
    "\n",
    "Does quality change over time?"
   ]
  },
  {
   "cell_type": "code",
   "execution_count": null,
   "metadata": {},
   "outputs": [],
   "source": [
    "fig, ax = plt.subplots(figsize=(12,8))\n",
    "sns.boxplot(data=df.query('Year_Built>1970'), x='Year_Built', y='Overall_Qual', ax=ax);\n",
    "mpl_set_label_rotation(ax)"
   ]
  },
  {
   "cell_type": "code",
   "execution_count": null,
   "metadata": {},
   "outputs": [],
   "source": [
    "# do a count plot here on the same dataset used above..."
   ]
  },
  {
   "cell_type": "markdown",
   "metadata": {},
   "source": [
    "## Plot a Seaborn Pair Plot\n",
    "\n",
    "Use Seaborn to plot a Pair Plot - what interesting or weird observations can you see? Is this easier than using `dabl` or harder?"
   ]
  },
  {
   "cell_type": "code",
   "execution_count": null,
   "metadata": {},
   "outputs": [],
   "source": [
    "cols = ['SalePrice', 'Overall_Qual', 'Gr_Liv_Area', 'Garage_Cars', 'Garage_Area', \n",
    "        'Total_Bsmt_SF', 'Year_Built', 'Garage_Yr_Blt']\n",
    "\n",
    "# NOTE we take a sample as the pairgrid calculations can be slow\n",
    "# NOTE we must dropna() else some of the pairgrid plots won't show\n",
    "sample_for_pairgrid = df[cols].sample(500).dropna()\n",
    "# Fill in the Pair Plot here\n",
    "# https://seaborn.pydata.org/generated/seaborn.pairplot.html"
   ]
  },
  {
   "cell_type": "code",
   "execution_count": null,
   "metadata": {},
   "outputs": [],
   "source": [
    "# the end of the Notebook - feel free to add more cells!"
   ]
  }
 ],
 "metadata": {
  "kernelspec": {
   "display_name": "Python 3 (ipykernel)",
   "language": "python",
   "name": "python3"
  },
  "language_info": {
   "codemirror_mode": {
    "name": "ipython",
    "version": 3
   },
   "file_extension": ".py",
   "mimetype": "text/x-python",
   "name": "python",
   "nbconvert_exporter": "python",
   "pygments_lexer": "ipython3",
   "version": "3.10.2"
  }
 },
 "nbformat": 4,
 "nbformat_minor": 4
}
